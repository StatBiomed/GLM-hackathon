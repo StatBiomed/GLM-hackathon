{
 "cells": [
  {
   "cell_type": "code",
   "execution_count": 1,
   "id": "c2b80afc",
   "metadata": {},
   "outputs": [],
   "source": [
    "import numpy as np\n",
    "import statsmodels.api as sm\n",
    "import scipy as sp\n",
    "import scipy.special\n",
    "import scipy.io\n",
    "import pandas as pd\n",
    "import matplotlib.pyplot as plt"
   ]
  },
  {
   "cell_type": "code",
   "execution_count": 2,
   "id": "11eafd1d",
   "metadata": {},
   "outputs": [],
   "source": [
    "# sigmoid function\n",
    "def sigmoid(x):\n",
    "    return (1/(1 + np.exp(-x)))\n",
    "\n",
    "# weight dot independent variables \n",
    "def pro(w, x):\n",
    "    return sigmoid(np.inner(w, x))\n",
    "\n",
    "# first coefficient in beta prior\n",
    "def alpha(p, phi):\n",
    "    return (((1 / phi) - 1) * p)\n",
    "\n",
    "# second coefficient in beta prior\n",
    "def beta(p, phi):\n",
    "    return (((1 / phi) - 1) * (1 - p))\n",
    "\n",
    "# average cost of beta-binomial regression excluding constant \n",
    "def cost(f, exog, endog):\n",
    "    cos = 0\n",
    "    for n in range(len(exog)):\n",
    "        p = pro(f[:-1], exog[n])\n",
    "        a = alpha(p, f[-1])\n",
    "        b = beta(p, f[-1])\n",
    "        cos += sp.special.betaln(endog[n][0] + a, endog[n][1] + b) - sp.special.betaln(a, b)\n",
    "    return - cos / len(exog)\n",
    "\n",
    "# predict the output given the parametres\n",
    "def predict(f, exog, endog):\n",
    "    p_pred = sigmoid(np.matmul(exog, f[:-1]))\n",
    "    return np.concatenate(([p_pred * (endog[:, 0] + endog[:, 1])], [(1 - p_pred) * (endog[:, 0] + endog[:, 1])]), axis = 0).T \n",
    "\n",
    "# log-likelihood of the data\n",
    "def LL(f, exog, endog):\n",
    "    return - cost(f, exog, endog) * len(exog) + sum(sp.special.gammaln(endog[:,0] + endog[:,1] + 1) - sp.special.gammaln(endog[:,0] + 1) - sp.special.gammaln(endog[:,1] + 1))\n",
    "\n",
    "# find the best initial guess for phi\n",
    "def initial(params, exog, endog):\n",
    "    guess = np.arange(0.99999, 10, 0.1)\n",
    "    cos = [0]\n",
    "    while np.argmin(cos) == 0:\n",
    "        guess = guess / 10\n",
    "        cos = []\n",
    "        for m in range(len(guess)): \n",
    "            f = np.concatenate((params, [guess[m]]))\n",
    "            cos.append(cost(f, exog, endog))\n",
    "        if np.isnan(cos).any():\n",
    "            print(\"bad result\")\n",
    "            break\n",
    "    f = np.concatenate((params, [guess[np.argmin(cos)]]))\n",
    "    # print(\"initial guess = \", f)\n",
    "    # print(\"cost of initial guess =\", cos[np.argmin(cos)])\n",
    "    return f\n",
    "\n",
    "# beta-binomial regression\n",
    "def fit(self):\n",
    "    glm_binom = sm.GLM(self.endog, self.exog, family = sm.families.Binomial())\n",
    "    res = glm_binom.fit()\n",
    "        \n",
    "    bnds = []\n",
    "    for m in range(len(res.params)):\n",
    "        bnds.append((- np.inf, np.inf))\n",
    "    bnds.append((0,1))\n",
    "    bnds_t = tuple(bnds)\n",
    "        \n",
    "    f = initial(res.params, self.exog, self.endog)\n",
    "    ress = sp.optimize.minimize(cost, f, args = (self.exog, self.endog), method = self.method, bounds = bnds_t)\n",
    "    return ress.x"
   ]
  },
  {
   "cell_type": "code",
   "execution_count": 3,
   "id": "f7515dae",
   "metadata": {},
   "outputs": [],
   "source": [
    "# can be any method scipy.optimize.minimize supports\n",
    "class betabin:\n",
    "    def __init__(self, exog, endog, fit_intercept = True, method = \"SLSQP\"):\n",
    "        self.n_features_in_ = len(exog[0])\n",
    "        self.intercept_ = fit_intercept\n",
    "        if self.intercept_:\n",
    "            exog = sm.add_constant(exog, prepend = False)\n",
    "        self.exog = exog\n",
    "        self.endog = endog\n",
    "        self.method = method\n",
    "        self.params = fit(self)\n",
    "        self.predict = predict(self.params, self.exog, self.endog)\n",
    "        self.LL = LL(self.params, self.exog, self.endog)\n",
    "        # if self.LL > 0:\n",
    "        #     raise Exception(\"Abnormal log-likelihood\")"
   ]
  },
  {
   "cell_type": "code",
   "execution_count": 4,
   "id": "35f496ca",
   "metadata": {},
   "outputs": [],
   "source": [
    "AD = sp.io.mmread(\"cellSNP.tag.AD.mtx\")\n",
    "DP = sp.io.mmread(\"cellSNP.tag.DP.mtx\")\n",
    "\n",
    "AD1 = np.asarray(AD.todense())\n",
    "DP1 = np.asarray(DP.todense())"
   ]
  },
  {
   "cell_type": "code",
   "execution_count": 5,
   "id": "b461dff3",
   "metadata": {},
   "outputs": [],
   "source": [
    "AD2 = []\n",
    "SNPS = []\n",
    "for i in range(len(AD1)):\n",
    "    if AD1[i].all() == 0:\n",
    "        continue\n",
    "    elif (AD1[i].all() == DP1[i]).all():\n",
    "        continue\n",
    "    AD2.append(AD1[i])\n",
    "    SNPS.append(i)\n",
    "\n",
    "DP2 = []\n",
    "for i in range(len(DP1)):\n",
    "    if DP1[i].all() == 0:\n",
    "        continue\n",
    "    elif (DP1[i].all() == AD1[i]).all():\n",
    "        continue\n",
    "    elif AD1[i].all() == 0:\n",
    "        continue\n",
    "    DP2.append(DP1[i])\n",
    "\n",
    "label = pd.read_csv('id.csv')\n",
    "label1 = label.iloc[:,1].to_numpy()\n",
    "\n",
    "clone0 = np.zeros(77) \n",
    "clone0[np.where(label1 == 0)] = 1\n",
    "clone1 = np.zeros(77) \n",
    "clone1[np.where(label1 == 1)] = 1\n",
    "clone2 = np.zeros(77) \n",
    "clone2[np.where(label1 == 2)] = 1"
   ]
  },
  {
   "cell_type": "code",
   "execution_count": 6,
   "id": "36ffaf35",
   "metadata": {},
   "outputs": [],
   "source": [
    "summ = []\n",
    "for n in range(24):\n",
    "    summ.append(np.sum(DP1[n]))\n",
    "#summ"
   ]
  },
  {
   "cell_type": "code",
   "execution_count": 7,
   "id": "8f107a06",
   "metadata": {},
   "outputs": [
    {
     "name": "stdout",
     "output_type": "stream",
     "text": [
      "clone 0: 15\n",
      "clone 1: 55\n",
      "clone 2: 7\n"
     ]
    }
   ],
   "source": [
    "print(\"clone 0:\", len(np.where(label1 == 0)[0]))\n",
    "print(\"clone 1:\",len(np.where(label1 == 1)[0]))\n",
    "print(\"clone 2:\",len(np.where(label1 == 2)[0]))"
   ]
  },
  {
   "cell_type": "code",
   "execution_count": 8,
   "id": "fb67b949",
   "metadata": {},
   "outputs": [
    {
     "name": "stderr",
     "output_type": "stream",
     "text": [
      "<ipython-input-2-b8d8bb1f8de6>:11: RuntimeWarning: divide by zero encountered in double_scalars\n",
      "  return (((1 / phi) - 1) * p)\n",
      "<ipython-input-2-b8d8bb1f8de6>:15: RuntimeWarning: divide by zero encountered in double_scalars\n",
      "  return (((1 / phi) - 1) * (1 - p))\n",
      "<ipython-input-2-b8d8bb1f8de6>:24: RuntimeWarning: invalid value encountered in double_scalars\n",
      "  cos += sp.special.betaln(endog[n][0] + a, endog[n][1] + b) - sp.special.betaln(a, b)\n",
      "<ipython-input-2-b8d8bb1f8de6>:3: RuntimeWarning: overflow encountered in exp\n",
      "  return (1/(1 + np.exp(-x)))\n",
      "<ipython-input-2-b8d8bb1f8de6>:11: RuntimeWarning: invalid value encountered in double_scalars\n",
      "  return (((1 / phi) - 1) * p)\n"
     ]
    },
    {
     "name": "stdout",
     "output_type": "stream",
     "text": [
      "-9.468078830151228\n",
      "-56.43064780910987\n"
     ]
    }
   ],
   "source": [
    "# all clones\n",
    "all_LL = []\n",
    "for SNP in range(len(AD2)):\n",
    "    mask = np.where(DP2[SNP] != 0)\n",
    "    endog = np.array([AD2[SNP][mask], DP2[SNP][mask] - AD2[SNP][mask]]).T\n",
    "    exog = np.array([clone0[mask], clone1[mask]]).T\n",
    "    model = betabin(exog, endog)\n",
    "    all_LL.append(model.LL)\n",
    "print(max(all_LL))\n",
    "print(min(all_LL))\n",
    "all_LL = np.array(all_LL)"
   ]
  },
  {
   "cell_type": "code",
   "execution_count": 9,
   "id": "b3804c2a",
   "metadata": {},
   "outputs": [
    {
     "name": "stderr",
     "output_type": "stream",
     "text": [
      "<ipython-input-2-b8d8bb1f8de6>:11: RuntimeWarning: divide by zero encountered in double_scalars\n",
      "  return (((1 / phi) - 1) * p)\n",
      "<ipython-input-2-b8d8bb1f8de6>:15: RuntimeWarning: divide by zero encountered in double_scalars\n",
      "  return (((1 / phi) - 1) * (1 - p))\n",
      "<ipython-input-2-b8d8bb1f8de6>:24: RuntimeWarning: invalid value encountered in double_scalars\n",
      "  cos += sp.special.betaln(endog[n][0] + a, endog[n][1] + b) - sp.special.betaln(a, b)\n",
      "<ipython-input-2-b8d8bb1f8de6>:15: RuntimeWarning: invalid value encountered in double_scalars\n",
      "  return (((1 / phi) - 1) * (1 - p))\n"
     ]
    },
    {
     "name": "stdout",
     "output_type": "stream",
     "text": [
      "3049.694246906391\n",
      "-56.430773859027624\n"
     ]
    }
   ],
   "source": [
    "# clone 0 only\n",
    "clone0_LL = []\n",
    "for SNP in range(len(AD2)):\n",
    "    mask = np.where(DP2[SNP] != 0)\n",
    "    endog = np.array([AD2[SNP][mask], DP2[SNP][mask] - AD2[SNP][mask]]).T\n",
    "    exog = np.array([clone0[mask]]).T\n",
    "    model = betabin(exog, endog)\n",
    "    clone0_LL.append(model.LL)\n",
    "print(max(clone0_LL))\n",
    "print(min(clone0_LL))\n",
    "clone0_LL = np.array(clone0_LL)"
   ]
  },
  {
   "cell_type": "code",
   "execution_count": 10,
   "id": "e981f494",
   "metadata": {},
   "outputs": [
    {
     "name": "stderr",
     "output_type": "stream",
     "text": [
      "<ipython-input-2-b8d8bb1f8de6>:11: RuntimeWarning: divide by zero encountered in double_scalars\n",
      "  return (((1 / phi) - 1) * p)\n",
      "<ipython-input-2-b8d8bb1f8de6>:15: RuntimeWarning: divide by zero encountered in double_scalars\n",
      "  return (((1 / phi) - 1) * (1 - p))\n",
      "<ipython-input-2-b8d8bb1f8de6>:3: RuntimeWarning: overflow encountered in exp\n",
      "  return (1/(1 + np.exp(-x)))\n",
      "<ipython-input-2-b8d8bb1f8de6>:11: RuntimeWarning: invalid value encountered in double_scalars\n",
      "  return (((1 / phi) - 1) * p)\n",
      "<ipython-input-2-b8d8bb1f8de6>:24: RuntimeWarning: invalid value encountered in double_scalars\n",
      "  cos += sp.special.betaln(endog[n][0] + a, endog[n][1] + b) - sp.special.betaln(a, b)\n"
     ]
    },
    {
     "name": "stdout",
     "output_type": "stream",
     "text": [
      "-9.854233897406687\n",
      "-8601.861399961412\n"
     ]
    }
   ],
   "source": [
    "# clone 1 only\n",
    "clone1_LL = []\n",
    "for SNP in range(len(AD2)):\n",
    "    mask = np.where(DP2[SNP] != 0)\n",
    "    endog = np.array([AD2[SNP][mask], DP2[SNP][mask] - AD2[SNP][mask]]).T\n",
    "    exog = np.array([clone1[mask]]).T\n",
    "    model = betabin(exog, endog)\n",
    "    clone1_LL.append(model.LL)\n",
    "print(max(clone1_LL))\n",
    "print(min(clone1_LL))\n",
    "clone1_LL = np.array(clone1_LL)"
   ]
  },
  {
   "cell_type": "code",
   "execution_count": 11,
   "id": "1796ef60",
   "metadata": {},
   "outputs": [
    {
     "name": "stderr",
     "output_type": "stream",
     "text": [
      "<ipython-input-2-b8d8bb1f8de6>:11: RuntimeWarning: divide by zero encountered in double_scalars\n",
      "  return (((1 / phi) - 1) * p)\n",
      "<ipython-input-2-b8d8bb1f8de6>:15: RuntimeWarning: divide by zero encountered in double_scalars\n",
      "  return (((1 / phi) - 1) * (1 - p))\n",
      "<ipython-input-2-b8d8bb1f8de6>:24: RuntimeWarning: invalid value encountered in double_scalars\n",
      "  cos += sp.special.betaln(endog[n][0] + a, endog[n][1] + b) - sp.special.betaln(a, b)\n"
     ]
    },
    {
     "name": "stdout",
     "output_type": "stream",
     "text": [
      "163868.41893828494\n",
      "-56.69891721140988\n"
     ]
    }
   ],
   "source": [
    "# clone 2 only\n",
    "# abnormal log-likelihood on one SNP, should be a bug in the log-likelihood function\n",
    "clone2_LL = []\n",
    "for SNP in range(len(AD2)):\n",
    "    mask = np.where(DP2[SNP] != 0)\n",
    "    endog = np.array([AD2[SNP][mask], DP2[SNP][mask] - AD2[SNP][mask]]).T\n",
    "    exog = np.array([clone2[mask]]).T\n",
    "    model = betabin(exog, endog)\n",
    "    clone2_LL.append(model.LL)\n",
    "print(max(clone2_LL))\n",
    "print(min(clone2_LL))\n",
    "clone2_LL = np.array(clone2_LL)"
   ]
  },
  {
   "cell_type": "code",
   "execution_count": 12,
   "id": "c303ab83",
   "metadata": {},
   "outputs": [
    {
     "name": "stderr",
     "output_type": "stream",
     "text": [
      "<ipython-input-2-b8d8bb1f8de6>:11: RuntimeWarning: divide by zero encountered in double_scalars\n",
      "  return (((1 / phi) - 1) * p)\n",
      "<ipython-input-2-b8d8bb1f8de6>:15: RuntimeWarning: divide by zero encountered in double_scalars\n",
      "  return (((1 / phi) - 1) * (1 - p))\n"
     ]
    },
    {
     "name": "stdout",
     "output_type": "stream",
     "text": [
      "-9.808389317640433\n",
      "-56.70846130537794\n"
     ]
    }
   ],
   "source": [
    "# no clones\n",
    "nil_LL = []\n",
    "for SNP in range(len(AD2)):\n",
    "    mask = np.where(DP2[SNP] != 0)\n",
    "    endog = np.array([AD2[SNP][mask], DP2[SNP][mask] - AD2[SNP][mask]]).T\n",
    "    exog = np.array([np.ones(len(mask[0]))]).T\n",
    "    model = betabin(exog, endog, fit_intercept = False)\n",
    "    nil_LL.append(model.LL)\n",
    "print(max(nil_LL))\n",
    "print(min(nil_LL))\n",
    "nil_LL = np.array(nil_LL)"
   ]
  },
  {
   "cell_type": "code",
   "execution_count": 13,
   "id": "6fa7aa15",
   "metadata": {},
   "outputs": [
    {
     "data": {
      "image/png": "[encoded data removed]",
      "text/plain": [
       "<Figure size 1440x720 with 1 Axes>"
      ]
     },
     "metadata": {
      "needs_background": "light"
     },
     "output_type": "display_data"
    }
   ],
   "source": [
    "fig, ax1 = plt.subplots(figsize = (20, 10))\n",
    "\n",
    "yValues = np.zeros(len(AD1)-14)\n",
    "temp = all_LL-nil_LL\n",
    "yValues = np.concatenate((yValues, temp))\n",
    "SNPS = np.concatenate((np.arange(len(yValues)-len(SNPS)), SNPS))\n",
    "yValues = yValues[-20:-1]\n",
    "SNPS = SNPS[-20:-1]\n",
    "xValues = np.arange(len(SNPS))\n",
    "\n",
    "for i in range(len(yValues)):\n",
    "    for j in range(len(yValues)):\n",
    "        if yValues[i] < yValues[j]:\n",
    "            temp = yValues[i]\n",
    "            yValues[i] = yValues[j]\n",
    "            yValues[j] = temp\n",
    "            temp2 = SNPS[i]\n",
    "            SNPS[i] = SNPS[j]\n",
    "            SNPS[j] = temp2\n",
    "        elif yValues[i] == 0:\n",
    "            continue\n",
    "SNPS.astype('str')\n",
    "\n",
    "from kneed import KneeLocator\n",
    "knee = KneeLocator(xValues, yValues, curve='concave', direction='increasing')\n",
    "\n",
    "plt.plot(xValues, yValues, color ='b', zorder=5, label='All clones')\n",
    "plt.axvline(x = knee.knee, color = 'gray', linestyle='--')\n",
    "ax1.set_xticks(xValues)\n",
    "ax1.set_xticklabels(SNPS)\n",
    "plt.title(\"Beta-binomial regression on MQuad data\", fontsize=18)\n",
    "plt.xlabel(\"No. of SNP\", fontsize=14)\n",
    "plt.ylabel(\"Relative log-likelihood\", fontsize=14)\n",
    "plt.savefig('betabin.png')\n",
    "plt.show()"
   ]
  },
  {
   "cell_type": "code",
   "execution_count": null,
   "id": "b0df846f",
   "metadata": {},
   "outputs": [],
   "source": []
  },
  {
   "cell_type": "code",
   "execution_count": null,
   "metadata": {},
   "outputs": [],
   "source": []
  }
 ],
 "metadata": {
  "kernelspec": {
   "display_name": "Python 3.8.8 ('base')",
   "language": "python",
   "name": "python3"
  },
  "language_info": {
   "codemirror_mode": {
    "name": "ipython",
    "version": 3
   },
   "file_extension": ".py",
   "mimetype": "text/x-python",
   "name": "python",
   "nbconvert_exporter": "python",
   "pygments_lexer": "ipython3",
   "version": "3.8.8"
  },
  "vscode": {
   "interpreter": {
    "hash": "40d3a090f54c6569ab1632332b64b2c03c39dcf918b08424e98f38b5ae0af88f"
   }
  }
 },
 "nbformat": 4,
 "nbformat_minor": 5
}
