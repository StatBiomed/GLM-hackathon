{
 "cells": [
  {
   "cell_type": "markdown",
   "id": "e7739eee",
   "metadata": {},
   "source": [
    "## import libraries"
   ]
  },
  {
   "cell_type": "code",
   "execution_count": 1,
   "id": "dc2b48ae",
   "metadata": {},
   "outputs": [],
   "source": [
    "import numpy as np\n",
    "import statsmodels.api as sm\n",
    "import scipy as sp\n",
    "import scipy.special\n",
    "import time\n",
    "import pandas as pd"
   ]
  },
  {
   "cell_type": "markdown",
   "id": "ee6e569e",
   "metadata": {},
   "source": [
    "## import dataset"
   ]
  },
  {
   "cell_type": "code",
   "execution_count": 2,
   "id": "95b6eccf",
   "metadata": {},
   "outputs": [
    {
     "ename": "AttributeError",
     "evalue": "'numpy.ndarray' object has no attribute 'to_numpy'",
     "output_type": "error",
     "traceback": [
      "\u001b[0;31m---------------------------------------------------------------------------\u001b[0m",
      "\u001b[0;31mAttributeError\u001b[0m                            Traceback (most recent call last)",
      "\u001b[0;32m/var/folders/gq/3xlzgly13xz5t2q4ffg3497r0000gn/T/ipykernel_67341/284364228.py\u001b[0m in \u001b[0;36m<module>\u001b[0;34m\u001b[0m\n\u001b[1;32m      2\u001b[0m \u001b[0mdata\u001b[0m\u001b[0;34m.\u001b[0m\u001b[0mexog\u001b[0m \u001b[0;34m=\u001b[0m \u001b[0msm\u001b[0m\u001b[0;34m.\u001b[0m\u001b[0madd_constant\u001b[0m\u001b[0;34m(\u001b[0m\u001b[0mdata\u001b[0m\u001b[0;34m.\u001b[0m\u001b[0mexog\u001b[0m\u001b[0;34m,\u001b[0m \u001b[0mprepend\u001b[0m \u001b[0;34m=\u001b[0m \u001b[0;32mFalse\u001b[0m\u001b[0;34m)\u001b[0m\u001b[0;34m\u001b[0m\u001b[0;34m\u001b[0m\u001b[0m\n\u001b[1;32m      3\u001b[0m \u001b[0;34m\u001b[0m\u001b[0m\n\u001b[0;32m----> 4\u001b[0;31m \u001b[0mexog\u001b[0m \u001b[0;34m=\u001b[0m \u001b[0mdata\u001b[0m\u001b[0;34m.\u001b[0m\u001b[0mexog\u001b[0m\u001b[0;34m.\u001b[0m\u001b[0mto_numpy\u001b[0m\u001b[0;34m(\u001b[0m\u001b[0;34m)\u001b[0m\u001b[0;34m\u001b[0m\u001b[0;34m\u001b[0m\u001b[0m\n\u001b[0m\u001b[1;32m      5\u001b[0m \u001b[0mendog\u001b[0m \u001b[0;34m=\u001b[0m \u001b[0mdata\u001b[0m\u001b[0;34m.\u001b[0m\u001b[0mendog\u001b[0m\u001b[0;34m.\u001b[0m\u001b[0mto_numpy\u001b[0m\u001b[0;34m(\u001b[0m\u001b[0;34m)\u001b[0m\u001b[0;34m\u001b[0m\u001b[0;34m\u001b[0m\u001b[0m\n\u001b[1;32m      6\u001b[0m \u001b[0;34m\u001b[0m\u001b[0m\n",
      "\u001b[0;31mAttributeError\u001b[0m: 'numpy.ndarray' object has no attribute 'to_numpy'"
     ]
    }
   ],
   "source": [
    "data = sm.datasets.star98.load()\n",
    "data.exog = sm.add_constant(data.exog, prepend = False)\n",
    "\n",
    "exog = data.exog.to_numpy()\n",
    "endog = data.endog.to_numpy()\n",
    "\n",
    "# np.savetxt(\"star98_exog.csv\", exog, delimiter=\",\")\n",
    "# np.savetxt(\"star98_endog.csv\", endog, delimiter=\",\")"
   ]
  },
  {
   "cell_type": "markdown",
   "id": "1fb274a8",
   "metadata": {},
   "source": [
    "## define functions"
   ]
  },
  {
   "cell_type": "code",
   "execution_count": null,
   "id": "16340057",
   "metadata": {},
   "outputs": [],
   "source": [
    "# sigmoid function\n",
    "def sigmoid(x):\n",
    "    return (1/(1 + np.exp(-x)))\n",
    "\n",
    "# weight dot independent variables \n",
    "def pro(w, x):\n",
    "    return sigmoid(np.inner(w, x))\n",
    "\n",
    "# first coefficient in beta prior\n",
    "def alpha(p, phi):\n",
    "    return (((1 / phi) - 1) * p)\n",
    "\n",
    "# second coefficient in beta prior\n",
    "def beta(p, phi):\n",
    "    return (((1 / phi) - 1) * (1 - p))\n",
    "\n",
    "# average cost of beta-binomial regression excluding constant \n",
    "def cost(f, exog, endog):\n",
    "    cos = 0\n",
    "    for n in range(len(exog)):\n",
    "        p = pro(f[:-1], exog[n])\n",
    "        a = alpha(p, f[-1])\n",
    "        b = beta(p, f[-1])\n",
    "        cos += sp.special.betaln(endog[n][0] + a, endog[n][1] + b) - sp.special.betaln(a, b)\n",
    "    return - cos / len(exog)"
   ]
  },
  {
   "cell_type": "code",
   "execution_count": null,
   "id": "f198c090",
   "metadata": {},
   "outputs": [],
   "source": [
    "# predict the output given the parametres\n",
    "def predict(f, exog, endog):\n",
    "    p_pred = sigmoid(np.matmul(exog, f[:-1]))\n",
    "    return np.concatenate(([p_pred * (endog[:, 0] + endog[:, 1])], [(1 - p_pred) * (endog[:, 0] + endog[:, 1])]), axis = 0).T "
   ]
  },
  {
   "cell_type": "code",
   "execution_count": null,
   "id": "f874c3fa",
   "metadata": {},
   "outputs": [],
   "source": [
    "# log-likelihood of the data\n",
    "def LL(f, exog, endog):\n",
    "    return - cost(f, exog, endog) * len(exog) + sum(sp.special.gammaln(endog[:,0] + endog[:,1] + 1) - sp.special.gammaln(endog[:,0] + 1) - sp.special.gammaln(endog[:,1] + 1))"
   ]
  },
  {
   "cell_type": "code",
   "execution_count": null,
   "id": "3faffb57",
   "metadata": {},
   "outputs": [],
   "source": [
    "# gradient of cost of beta-binomial regression, averaged over the number of observations\n",
    "def avgrad(f, exog, endog):\n",
    "    grad = np.zeros(len(f))\n",
    "    phi = f[-1]\n",
    "    for n in range(len(exog)):\n",
    "        p = pro(f[:-1], exog[n])\n",
    "        a = alpha(p, f[-1])\n",
    "        b = beta(p, f[-1])\n",
    "        nt = endog[n][0]\n",
    "        nf = endog[n][1]\n",
    "        dCda_1 = sp.special.digamma(a) - sp.special.digamma(a + b)\n",
    "        dCda_2 = sp.special.digamma(a + b + nt + nf) - sp.special.digamma(a + nt)\n",
    "        dCdb_1 = sp.special.digamma(b) - sp.special.digamma(a + b)\n",
    "        dCdb_2 = sp.special.digamma(a + b + nt + nf) - sp.special.digamma(b + nf)\n",
    "        dadp = (1/phi) - 1\n",
    "        dbdp = 1 - (1/phi)\n",
    "        dadphi = - p / (phi ** 2)\n",
    "        dbdphi = (p - 1) / (phi ** 2)\n",
    "        dpdw = exog[n] * p * (1 - p)\n",
    "        dw = ((dCda_1 + dCda_2) * dadp + (dCdb_1 + dCdb_2) * dbdp) * dpdw\n",
    "        dphi = (dCda_1 + dCda_2) * dadphi + (dCdb_1 + dCdb_2) * dbdphi\n",
    "        df = np.concatenate((dw, dphi), axis = None)\n",
    "        grad += df\n",
    "        \n",
    "    return grad / len(exog)"
   ]
  },
  {
   "cell_type": "code",
   "execution_count": null,
   "id": "38ef3274",
   "metadata": {},
   "outputs": [],
   "source": [
    "# find the best initial guess for phi, with other weights being the binomial regression result\n",
    "def initial(params, exog, endog):\n",
    "    guess = np.arange(0.99999, 10, 0.1)\n",
    "    cos = [0]\n",
    "    while np.argmin(cos) == 0:\n",
    "        guess = guess / 10\n",
    "        cos = []\n",
    "        for m in range(len(guess)): \n",
    "            f = np.concatenate((params, [guess[m]]))\n",
    "            cos.append(cost(f, exog, endog))\n",
    "    f = np.concatenate((params, [guess[np.argmin(cos)]]))\n",
    "    # print(\"initial guess = \", f)\n",
    "    # print(\"cost of initial guess =\", cos[np.argmin(cos)])\n",
    "    return f"
   ]
  },
  {
   "cell_type": "markdown",
   "id": "9db50995",
   "metadata": {},
   "source": [
    "## binomial regression by statmodels"
   ]
  },
  {
   "cell_type": "code",
   "execution_count": null,
   "id": "14d68674",
   "metadata": {},
   "outputs": [],
   "source": [
    "glm_binom = sm.GLM(endog, exog, family = sm.families.Binomial())\n",
    "res = glm_binom.fit()"
   ]
  },
  {
   "cell_type": "markdown",
   "id": "76f26ad2",
   "metadata": {},
   "source": [
    "## optimization by gradient descent"
   ]
  },
  {
   "cell_type": "code",
   "execution_count": null,
   "id": "4e13e5dc",
   "metadata": {},
   "outputs": [],
   "source": [
    "time = 1700\n",
    "learnrate = 0.00000000001 \n",
    "f = initial(res.params, exog, endog)\n",
    "\n",
    "for t in range(time):\n",
    "    if (t + 1) % 100 == 0:\n",
    "         print(\"iteration {time}, current cost = {cost}\".format(time = t + 1, cost = cost(f, exog, endog)))\n",
    "    f -= avgrad(f, exog, endog) * learnrate\n",
    "print(\"result =\", f)"
   ]
  },
  {
   "cell_type": "markdown",
   "id": "6ba7b1dd",
   "metadata": {},
   "source": [
    "## optimization by scipy optimizer"
   ]
  },
  {
   "cell_type": "code",
   "execution_count": null,
   "id": "0420ea23",
   "metadata": {
    "scrolled": true
   },
   "outputs": [],
   "source": [
    "timme = []\n",
    "cosst = []\n",
    "method = \"SLSQP\"\n",
    "for n in range(5):\n",
    "    start_time = time.time()\n",
    "    bnds = []\n",
    "    for m in range(len(res.params)):\n",
    "        bnds.append((- np.inf, np.inf))\n",
    "    bnds.append((0,1))\n",
    "    bnds_t = tuple(bnds)\n",
    "    f = initial(res.params, exog, endog)\n",
    "    ress = sp.optimize.minimize(cost, f, args = (exog, endog), method = method, bounds = bnds_t)\n",
    "    # print(\"result =\", ress.x)\n",
    "    # print(\"cost =\", cost(ress.x, exog, endog))\n",
    "    # print(\"--- %s seconds ---\" % (time.time() - start_time))\n",
    "    timme.append(time.time() - start_time)\n",
    "    cosst.append(cost(ress.x, exog, endog))\n",
    "print(\"### average running time = {time:.2f}, average cost = {cost:.4f},\".format(time = np.average(timme), cost = np.average(cosst)), \"method =\", method)"
   ]
  },
  {
   "cell_type": "markdown",
   "id": "81698efe",
   "metadata": {},
   "source": [
    "#### cost of initial guess = 541.2959\n",
    "\n",
    "\n",
    "#### average running time = 10.45, average cost = 541.2591, method = Nelder-Mead\n",
    "#### average running time = 1.20, average cost = 541.2739, method = Powell\n",
    "#### average running time = 0.63, average cost = 541.2959, method = CG\n",
    "#### average running time = 0.66, average cost = 541.2959, method = BFGS\n",
    "#### average running time = 0.63, average cost = 541.2959, method = L-BFGS-B\n",
    "#### average running time = 4.27, average cost = 541.2861, method = TNC\n",
    "#### average running time = 0.47, average cost = 541.2959, method = COBYLA\n",
    "#### average running time = 2.07, average cost = 541.2494, method = SLSQP\n",
    "#### average running time = 8.61, average cost = 541.2959, method = trust-constr\n"
   ]
  },
  {
   "cell_type": "markdown",
   "id": "e31c514a",
   "metadata": {},
   "source": [
    "## compare to aod package"
   ]
  },
  {
   "cell_type": "code",
   "execution_count": null,
   "id": "7d60d247",
   "metadata": {},
   "outputs": [],
   "source": [
    "# aod\n",
    "aod = pd.read_csv('param_aod.csv')\n",
    "f = aod.iloc[:,1].to_numpy()\n",
    "print(\"cost =\", cost(f, exog, endog))\n",
    "print(\"log-likelihood =\", LL(f, exog, endog))"
   ]
  },
  {
   "cell_type": "code",
   "execution_count": null,
   "id": "cda2ed7c",
   "metadata": {},
   "outputs": [],
   "source": [
    "# scipy optimizer\n",
    "f = ress.x\n",
    "print(\"cost =\", cost(f, exog, endog))\n",
    "print(\"log-likelihood =\", LL(f, exog, endog))"
   ]
  }
 ],
 "metadata": {
  "kernelspec": {
   "display_name": "Python 3.9.7 ('base')",
   "language": "python",
   "name": "python3"
  },
  "language_info": {
   "codemirror_mode": {
    "name": "ipython",
    "version": 3
   },
   "file_extension": ".py",
   "mimetype": "text/x-python",
   "name": "python",
   "nbconvert_exporter": "python",
   "pygments_lexer": "ipython3",
   "version": "3.9.7"
  },
  "vscode": {
   "interpreter": {
    "hash": "3efa17c875ea0b5b09ba0de2bd87f1b5453e4b9e3d9e08a37a0c1d47eec5f9c9"
   }
  }
 },
 "nbformat": 4,
 "nbformat_minor": 5
}
